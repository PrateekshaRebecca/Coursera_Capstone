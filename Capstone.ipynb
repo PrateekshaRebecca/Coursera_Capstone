{
 "cells": [
  {
   "cell_type": "markdown",
   "metadata": {},
   "source": [
    "## Introduction/Business Problem"
   ]
  },
  {
   "cell_type": "markdown",
   "metadata": {},
   "source": [
    "The main goal will be exploring the neighborhoods of New York city in order to extract the correlation between the real estate value and its surrounding venues.\n",
    "The idea comes from the process of a normal family finding a place to stay after moving to another city\n"
   ]
  },
  {
   "cell_type": "code",
   "execution_count": 41,
   "metadata": {},
   "outputs": [],
   "source": []
  },
  {
   "cell_type": "markdown",
   "metadata": {},
   "source": [
    "## Who is this solution targeted at\n",
    "This solution is mostly targetting tourists and visitors who are visiting the cities for exploring it , \n",
    "The users of this application can use this application for finding best restaurants in and around the cities they visit based on ratings  we will follow the below steps to go over building this application\n",
    "\n",
    "- Data Acquisition\n",
    "- Data Cleansing\n",
    "- Data Analysis\n",
    "- Machine Learning\n",
    "- Prediction\n",
    "\n",
    "Data Description\n",
    "In this area, I will portray the information used to tackle the issue as depicted beforehand. \n",
    "\n",
    "As noted beneath in the Further Development Section, it is conceivable to endeavor very intricate and refined situations when moving toward this issue. In any case, given the size of the task and for effortlessness just the accompanying situation will be tended to:\n",
    "\n",
    "- First we will Query the Four Square API for Restaurants based on user Params posted\n",
    "- Use the FourSquare API to retreive  addiitonal  data about the searched sites\n",
    "- Use the FourSquare API to retreive top restaurent recommendations closest to each of the top site based on their search queries \n",
    "\n"
   ]
  },
  {
   "cell_type": "markdown",
   "metadata": {},
   "source": [
    "Below is a sample Json data received from Foursquare APi"
   ]
  },
  {
   "cell_type": "markdown",
   "metadata": {},
   "source": []
  },
  {
   "cell_type": "markdown",
   "metadata": {},
   "source": [
    "### The target audience for this report are:\n",
    "-\tPotential buyers who can roughly estimate the value of a house based on the surrounding venues and the average price.\n",
    "-\tReal estate makers and planners who can decide what kind of venues to put around their products to maximize selling price.\n",
    "-\tHouses sellers who can optimize their advertisements.\n",
    "-\tAnd of course, to this course’s instructors and learners who will grade this project. Or to anyone who catch this shared on the social media showing that I can use Python data science tools.\n"
   ]
  },
  {
   "cell_type": "markdown",
   "metadata": {},
   "source": [
    "From this JSON the following attributes are extraced and added to the Dataframe:\n",
    "\n",
    "- Restaurant ID\n",
    "- Venue Name\n",
    "- Venue Latitude\n",
    "- Venue Longitude\n",
    "- Restaurant Category Name\n",
    "- Restaurant Category ID\n",
    "- Restaurant Nest_name\n",
    "- Restaurant Postalcode\n",
    "- Restaurant City\n",
    "- Restaurant Latitude\n",
    "- Restaurant Longitude\n",
    "- Restaurant Address"
   ]
  },
  {
   "cell_type": "code",
   "execution_count": null,
   "metadata": {},
   "outputs": [],
   "source": []
  }
 ],
 "metadata": {
  "kernelspec": {
   "display_name": "Python 3",
   "language": "python",
   "name": "python3"
  },
  "language_info": {
   "codemirror_mode": {
    "name": "ipython",
    "version": 3
   },
   "file_extension": ".py",
   "mimetype": "text/x-python",
   "name": "python",
   "nbconvert_exporter": "python",
   "pygments_lexer": "ipython3",
   "version": "3.7.3"
  }
 },
 "nbformat": 4,
 "nbformat_minor": 2
}
